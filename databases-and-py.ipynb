{
 "cells": [
  {
   "cell_type": "markdown",
   "metadata": {
    "azdata_cell_guid": "54326aff-51cd-4766-8046-828a92489c6d"
   },
   "source": [
    "# Studio: Working with Databases in Python\n",
    "\n",
    "For today's studio, we will be using the [TV Shows dataset](https://www.kaggle.com/ruchi798/tv-shows-on-netflix-prime-video-hulu-and-disney) from Kaggle. We have already downloaded the CSV for you.\n",
    "\n",
    "You will also be using the watchlist you just created to figure out which streaming services contain the shows that you want to watch next so you can decide which one is worth the money to you.\n",
    "\n",
    "As you complete the different tasks in the studio, you may choose between using Pandas or SQL. Remember that during the prep work, we learned that one is oftentimes more efficient at certain tasks than the other, so choose wisely!"
   ]
  },
  {
   "cell_type": "markdown",
   "metadata": {
    "azdata_cell_guid": "00bc62ef-6c46-40a2-bdad-a3250a003ce7"
   },
   "source": [
    "## My Watchlist\n",
    "\n",
    "If you would like, please use this space to make note of your watchlist by editing the text cell."
   ]
  },
  {
   "cell_type": "markdown",
   "metadata": {
    "azdata_cell_guid": "040bdac5-f7fc-474f-b112-1d807249ad0a"
   },
   "source": [
    "## Database Setup\n",
    "\n",
    "To start with, import the necessary libraries and create a dataframe from the provided CSV. Print the info out for the dataframe. After that, you may drop the column called `Unnamed: 0` and rename any columns with spaces in the names or unusual characters such as `\"+\"`. Print out the info for the dataframe again to ensure that your changes were effective."
   ]
  },
  {
   "cell_type": "code",
   "execution_count": 1,
   "metadata": {
    "azdata_cell_guid": "965f15d3-27b1-43ed-97e4-8c6fd482476c",
    "tags": []
   },
   "outputs": [
    {
     "name": "stdout",
     "output_type": "stream",
     "text": [
      "Initial DataFrame Info:\n",
      "<class 'pandas.core.frame.DataFrame'>\n",
      "RangeIndex: 5368 entries, 0 to 5367\n",
      "Data columns (total 12 columns):\n",
      " #   Column           Non-Null Count  Dtype \n",
      "---  ------           --------------  ----- \n",
      " 0   Unnamed: 0       5368 non-null   int64 \n",
      " 1   ID               5368 non-null   int64 \n",
      " 2   Title            5368 non-null   object\n",
      " 3   Year             5368 non-null   int64 \n",
      " 4   Age              3241 non-null   object\n",
      " 5   IMDb             4406 non-null   object\n",
      " 6   Rotten Tomatoes  5368 non-null   object\n",
      " 7   Netflix          5368 non-null   int64 \n",
      " 8   Hulu             5368 non-null   int64 \n",
      " 9   Prime Video      5368 non-null   int64 \n",
      " 10  Disney+          5368 non-null   int64 \n",
      " 11  Type             5368 non-null   int64 \n",
      "dtypes: int64(8), object(4)\n",
      "memory usage: 503.4+ KB\n",
      "None\n",
      "\n",
      "DataFrame Info After Modifications:\n",
      "<class 'pandas.core.frame.DataFrame'>\n",
      "RangeIndex: 5368 entries, 0 to 5367\n",
      "Data columns (total 11 columns):\n",
      " #   Column           Non-Null Count  Dtype \n",
      "---  ------           --------------  ----- \n",
      " 0   ID               5368 non-null   int64 \n",
      " 1   Title            5368 non-null   object\n",
      " 2   Year             5368 non-null   int64 \n",
      " 3   Age              3241 non-null   object\n",
      " 4   IMDb             4406 non-null   object\n",
      " 5   Rotten_Tomatoes  5368 non-null   object\n",
      " 6   Netflix          5368 non-null   int64 \n",
      " 7   Hulu             5368 non-null   int64 \n",
      " 8   Prime_Video      5368 non-null   int64 \n",
      " 9   Disney           5368 non-null   int64 \n",
      " 10  Type             5368 non-null   int64 \n",
      "dtypes: int64(7), object(4)\n",
      "memory usage: 461.4+ KB\n",
      "None\n"
     ]
    },
    {
     "name": "stderr",
     "output_type": "stream",
     "text": [
      "C:\\Users\\lenam\\AppData\\Local\\Temp\\ipykernel_12640\\3312607234.py:20: FutureWarning: The default value of regex will change from True to False in a future version. In addition, single character regular expressions will *not* be treated as literal strings when regex=True.\n",
      "  df.columns = df.columns.str.replace(' ', '_').str.replace('+', '')\n"
     ]
    }
   ],
   "source": [
    "import sqlite3 as sl\n",
    "import pandas as pd\n",
    "import sqlalchemy\n",
    "\n",
    "import pandas as pd\n",
    "\n",
    "# CSV file into a DataFrame\n",
    "csv_file = \"tv_shows.csv\"\n",
    "df = pd.read_csv(csv_file)\n",
    "\n",
    "# info for the initial DataFrame\n",
    "print(\"Initial DataFrame Info:\")\n",
    "print(df.info())\n",
    "\n",
    "# the 'Unnamed: 0' column dropped\n",
    "df.drop(columns=['Unnamed: 0'], inplace=True)\n",
    "\n",
    "# new names columns with spaces or unusual characters\n",
    "# replace spaces with underscores (_) and remove any other weird characters\n",
    "df.columns = df.columns.str.replace(' ', '_').str.replace('+', '')\n",
    "\n",
    "# info for the modified DataFrame\n",
    "print(\"\\nDataFrame Info After Modifications:\")\n",
    "print(df.info())\n"
   ]
  },
  {
   "cell_type": "markdown",
   "metadata": {
    "azdata_cell_guid": "93875e01-f1ec-45ab-b8b3-c0fe09c89c41"
   },
   "source": [
    "With your dataframe at the ready, create a new database called `tv`. Add a new table to your database called `shows` using the data in the dataframe. "
   ]
  },
  {
   "cell_type": "code",
   "execution_count": 2,
   "metadata": {
    "azdata_cell_guid": "cae4affc-d930-4649-9c39-551475a83b5b",
    "tags": []
   },
   "outputs": [],
   "source": [
    "import sqlite3\n",
    "\n",
    "# Create a connection to the database or create it if it doesn't exist\n",
    "con = sqlite3.connect('tv.db')\n",
    "\n",
    "# Create a cursor object to execute SQL commands\n",
    "cur = con.cursor()\n",
    "\n",
    "# Create a new table within the database\n",
    "cur.execute(\"\"\"\n",
    "    CREATE TABLE IF NOT EXISTS shows (\n",
    "        ID INTEGER PRIMARY KEY AUTOINCREMENT,\n",
    "        Title TEXT,\n",
    "        Year INTEGER,\n",
    "        Age TEXT,\n",
    "        IMDb TEXT,\n",
    "        Rotten_Tomatoes TEXT,\n",
    "        Netflix INTEGER,\n",
    "        Hulu INTEGER,\n",
    "        Prime_Video INTEGER,\n",
    "        Disney INTEGER,\n",
    "        Type INTEGER\n",
    "    );\n",
    "\"\"\")\n",
    "\n",
    "con.commit()\n",
    "\n",
    "#  0   ID               5368 non-null   int64 \n",
    "#  1   Title            5368 non-null   object\n",
    "#  2   Year             5368 non-null   int64 \n",
    "#  3   Age              3241 non-null   object\n",
    "#  4   IMDb             4406 non-null   object\n",
    "#  5   Rotten_Tomatoes  5368 non-null   object\n",
    "#  6   Netflix          5368 non-null   int64 \n",
    "#  7   Hulu             5368 non-null   int64 \n",
    "#  8   Prime_Video      5368 non-null   int64 \n",
    "#  9   Disney           5368 non-null   int64 \n",
    "#  10  Type             5368 non-null   int64 \n",
    "\n",
    "df.to_sql('shows', con, if_exists='replace', index=False)\n",
    "con.commit()\n",
    "\n"
   ]
  },
  {
   "cell_type": "markdown",
   "metadata": {
    "azdata_cell_guid": "4916f211-149f-467b-b5e4-22ad946b54f2"
   },
   "source": [
    "With your new table and database set up, print out the top 20 records in the `shows` table."
   ]
  },
  {
   "cell_type": "code",
   "execution_count": 11,
   "metadata": {
    "azdata_cell_guid": "c6aa3980-3eef-4d7d-8f04-961508662147",
    "tags": []
   },
   "outputs": [
    {
     "name": "stdout",
     "output_type": "stream",
     "text": [
      "(1, 'Breaking Bad', 2008, '18+', '9.4/10', '100/100', 1, 0, 0, 0, 1)\n",
      "(2, 'Stranger Things', 2016, '16+', '8.7/10', '96/100', 1, 0, 0, 0, 1)\n",
      "(3, 'Attack on Titan', 2013, '18+', '9.0/10', '95/100', 1, 1, 0, 0, 1)\n",
      "(4, 'Better Call Saul', 2015, '18+', '8.8/10', '94/100', 1, 0, 0, 0, 1)\n",
      "(5, 'Dark', 2017, '16+', '8.8/10', '93/100', 1, 0, 0, 0, 1)\n",
      "(6, 'Avatar: The Last Airbender', 2005, '7+', '9.3/10', '93/100', 1, 0, 1, 0, 1)\n",
      "(7, 'Peaky Blinders', 2013, '18+', '8.8/10', '93/100', 1, 0, 0, 0, 1)\n",
      "(8, 'The Walking Dead', 2010, '18+', '8.2/10', '93/100', 1, 0, 0, 0, 1)\n",
      "(9, 'Black Mirror', 2011, '18+', '8.8/10', '92/100', 1, 0, 0, 0, 1)\n",
      "(10, \"The Queen's Gambit\", 2020, '18+', '8.6/10', '92/100', 1, 0, 0, 0, 1)\n",
      "(11, 'Mindhunter', 2017, '18+', '8.6/10', '90/100', 1, 0, 0, 0, 1)\n",
      "(12, 'Community', 2009, '7+', '8.5/10', '90/100', 1, 1, 1, 0, 1)\n",
      "(13, 'Narcos', 2015, '18+', '8.8/10', '90/100', 1, 0, 0, 0, 1)\n",
      "(14, 'Shameless', 2011, '18+', '8.5/10', '90/100', 1, 1, 1, 0, 1)\n",
      "(15, 'Money Heist', 2017, '18+', '8.3/10', '90/100', 1, 0, 0, 0, 1)\n",
      "(16, \"Marvel's Daredevil\", 2015, '18+', '8.6/10', '90/100', 1, 0, 0, 0, 1)\n",
      "(17, 'Lucifer', 2016, '16+', '8.1/10', '90/100', 1, 0, 0, 0, 1)\n",
      "(18, 'Supernatural', 2005, '16+', '8.4/10', '89/100', 1, 0, 0, 0, 1)\n",
      "(19, 'The Witcher', 2019, '18+', '8.2/10', '89/100', 1, 0, 0, 0, 1)\n",
      "(20, 'Ozark', 2017, '18+', '8.4/10', '89/100', 1, 0, 0, 0, 1)\n"
     ]
    }
   ],
   "source": [
    "with con:\n",
    "  data = con.execute(\"SELECT * FROM shows LIMIT 20\")\n",
    "  for row in data:\n",
    "    print(row)"
   ]
  },
  {
   "cell_type": "markdown",
   "metadata": {
    "azdata_cell_guid": "f158ccd2-c87a-4d2c-a947-0eadd0484a3e"
   },
   "source": [
    "Now add a table that includes an id number and the titles on your watchlist."
   ]
  },
  {
   "cell_type": "code",
   "execution_count": 20,
   "metadata": {},
   "outputs": [
    {
     "name": "stdout",
     "output_type": "stream",
     "text": [
      "(12, 'Community', 2009, '7+', '8.5/10', '90/100', 1, 1, 1, 0, 1)\n",
      "(27, 'The Good Place', 2016, '16+', '8.2/10', '88/100', 1, 0, 0, 0, 1)\n",
      "(40, 'BoJack Horseman', 2014, '18+', '8.7/10', '86/100', 1, 0, 0, 0, 1)\n",
      "(41, 'Star Trek: The Next Generation', 1987, '7+', '8.6/10', '86/100', 1, 1, 1, 0, 1)\n",
      "(90, 'Russian Doll', 2019, '18+', '7.9/10', '82/100', 1, 0, 0, 0, 1)\n",
      "(97, \"Monty Python's Flying Circus\", 1969, '16+', '8.8/10', '81/100', 1, 0, 0, 0, 1)\n",
      "(101, 'I Think You Should Leave with Tim Robinson', 2019, '18+', '7.8/10', '81/100', 1, 0, 0, 0, 1)\n",
      "(105, 'Star Trek: Deep Space Nine', 1993, '7+', '8.0/10', '80/100', 1, 1, 1, 0, 1)\n",
      "(123, 'Stargate SG-1', 1997, '13+', '8.4/10', '79/100', 1, 1, 0, 0, 1)\n",
      "(137, 'Star Trek: Voyager', 1995, '7+', '7.8/10', '78/100', 1, 1, 1, 0, 1)\n",
      "(177, 'Star Trek: Enterprise', 2001, '7+', '7.5/10', '76/100', 1, 1, 1, 0, 1)\n",
      "(205, 'Hilda', 2018, '7+', '8.6/10', '74/100', 1, 0, 0, 0, 1)\n",
      "(299, 'Kipo and the Age of Wonderbeasts', 2020, '7+', '8.4/10', '70/100', 1, 0, 0, 0, 1)\n",
      "(534, 'The Magic School Bus', 1994, 'all', '7.8/10', '62/100', 1, 0, 0, 0, 1)\n",
      "(638, 'Tales of the City', 2019, '16+', '7.4/10', '60/100', 1, 0, 0, 0, 1)\n",
      "(642, 'Wanderlust', 2018, '16+', '7.1/10', '60/100', 1, 0, 0, 0, 1)\n",
      "(1960, 'Rick and Morty', 2013, '18+', '9.2/10', '100/100', 0, 1, 0, 0, 1)\n",
      "(1971, 'Firefly', 2002, '16+', '9.0/10', '90/100', 0, 1, 0, 0, 1)\n",
      "(1983, 'The X-Files', 1993, '18+', '8.6/10', '87/100', 0, 1, 0, 0, 1)\n",
      "(1991, 'What We Do in the Shadows', 2019, '18+', '8.5/10', '87/100', 0, 1, 0, 0, 1)\n",
      "(2000, 'Buffy the Vampire Slayer', 1997, '16+', '8.2/10', '86/100', 0, 1, 1, 0, 1)\n",
      "(2005, \"Bob's Burgers\", 2011, '16+', '8.1/10', '85/100', 0, 1, 0, 0, 1)\n",
      "(2051, \"Dirk Gently's Holistic Detective Agency\", 2016, '16+', '8.3/10', '80/100', 0, 1, 0, 0, 1)\n",
      "(2073, 'Angel', 1999, '7+', '7.9/10', '79/100', 0, 1, 1, 0, 1)\n",
      "(2082, 'Key & Peele', 2012, '18+', '8.3/10', '78/100', 0, 1, 0, 0, 1)\n",
      "(2083, 'Malcolm in the Middle', 2000, '7+', '8.0/10', '78/100', 0, 1, 0, 0, 1)\n",
      "(2084, 'Dollhouse', 2009, '16+', '7.7/10', '78/100', 0, 1, 0, 0, 1)\n",
      "(2097, 'Better Off Ted', 2009, '7+', '8.2/10', '77/100', 0, 1, 0, 0, 1)\n",
      "(2109, 'My So-Called Life', 1994, '16+', '8.3/10', '76/100', 0, 1, 0, 0, 1)\n",
      "(2269, 'Animaniacs', 1993, 'all', '7.9/10', '69/100', 0, 1, 0, 0, 1)\n",
      "(2277, 'Hey Arnold!', 1996, 'all', '7.6/10', '69/100', 0, 1, 0, 0, 1)\n",
      "(2297, 'Rugrats', 1991, 'all', '7.4/10', '68/100', 0, 1, 0, 0, 1)\n",
      "(2540, 'Dharma & Greg', 1997, '16+', '6.3/10', '60/100', 0, 1, 0, 0, 1)\n",
      "(3584, 'House', 2004, '16+', '8.7/10', '92/100', 0, 0, 1, 0, 1)\n",
      "(3612, 'Good Omens', 2019, '18+', '8.1/10', '83/100', 0, 0, 1, 0, 1)\n",
      "(3620, 'Upload', 2020, '18+', '8.0/10', '82/100', 0, 0, 1, 0, 1)\n",
      "(4921, 'Microsoft Outlook 2016 - Training', 2017, None, None, '14/100', 0, 0, 1, 0, 1)\n",
      "(5402, 'Spider-Man', 1994, 'all', '8.4/10', '70/100', 0, 0, 0, 1, 1)\n"
     ]
    },
    {
     "ename": "AttributeError",
     "evalue": "'sqlite3.Cursor' object has no attribute 'to_sql'",
     "output_type": "error",
     "traceback": [
      "\u001b[1;31m---------------------------------------------------------------------------\u001b[0m",
      "\u001b[1;31mAttributeError\u001b[0m                            Traceback (most recent call last)",
      "Cell \u001b[1;32mIn[20], line 22\u001b[0m\n\u001b[0;32m     13\u001b[0m cur\u001b[38;5;241m.\u001b[39mexecute(\u001b[38;5;124m\"\"\"\u001b[39m\n\u001b[0;32m     14\u001b[0m \u001b[38;5;124m    CREATE TABLE IF NOT EXISTS watchlist (\u001b[39m\n\u001b[0;32m     15\u001b[0m \u001b[38;5;124m        wid INTEGER,\u001b[39m\n\u001b[0;32m     16\u001b[0m \u001b[38;5;124m        Title TEXT\u001b[39m\n\u001b[0;32m     17\u001b[0m \u001b[38;5;124m    );\u001b[39m\n\u001b[0;32m     18\u001b[0m \u001b[38;5;124m\"\"\"\u001b[39m)\n\u001b[0;32m     20\u001b[0m con\u001b[38;5;241m.\u001b[39mcommit()\n\u001b[1;32m---> 22\u001b[0m \u001b[43mdata\u001b[49m\u001b[38;5;241;43m.\u001b[39;49m\u001b[43mto_sql\u001b[49m(\u001b[38;5;124m'\u001b[39m\u001b[38;5;124mwatchlist\u001b[39m\u001b[38;5;124m'\u001b[39m, con, if_exists\u001b[38;5;241m=\u001b[39m\u001b[38;5;124m'\u001b[39m\u001b[38;5;124mreplace\u001b[39m\u001b[38;5;124m'\u001b[39m, index\u001b[38;5;241m=\u001b[39m\u001b[38;5;28;01mFalse\u001b[39;00m)\n\u001b[0;32m     23\u001b[0m con\u001b[38;5;241m.\u001b[39mcommit()\n\u001b[0;32m     25\u001b[0m \u001b[38;5;28;01mwith\u001b[39;00m con:\n",
      "\u001b[1;31mAttributeError\u001b[0m: 'sqlite3.Cursor' object has no attribute 'to_sql'"
     ]
    }
   ],
   "source": [
    "with con:\n",
    "    id_list = [12, 27, 40, 41, 90, 97, 101, 105, 123, 137, 177, 205, 299, 534, 638, 642, 1960, 1971, 1983, 1991, 2000, 2005, 2051, 2073, 2082, 2083, 2084, 2097, 2109, 2269, 2277, 2297, 2540, 3584, 3612, 3620, 4921, 5402]\n",
    "\n",
    "    # Convert the list of IDs into a comma-separated string\n",
    "    id_list_str = ', '.join(map(str, id_list))\n",
    "\n",
    "    # Use the IN clause with the list of IDs in parentheses\n",
    "    data = con.execute(f\"SELECT * FROM shows WHERE ID IN ({id_list_str})\")\n",
    "    \n",
    "    for row in data:\n",
    "        print(row)\n",
    "\n",
    "cur.execute(\"\"\"\n",
    "    CREATE TABLE IF NOT EXISTS watchlist (\n",
    "        wid INTEGER,\n",
    "        Title TEXT\n",
    "    );\n",
    "\"\"\")\n",
    "\n",
    "con.commit()\n",
    "        \n",
    "df.to_sql('watchlist', con, if_exists='replace', index=False)\n",
    "con.commit()\n",
    "\n",
    "with con:\n",
    "  data = con.execute(\"SELECT * FROM shows LIMIT 20\")\n",
    "  for row in data:\n",
    "    print(row)\n"
   ]
  },
  {
   "cell_type": "markdown",
   "metadata": {
    "azdata_cell_guid": "4716090d-63e3-4283-8245-934c4a28c750"
   },
   "source": [
    "## Working with the Data\n",
    "\n",
    "Using either Pandas or SQL, determine how many shows are on each streaming service and what the mean is for each streaming service. \n",
    "\n",
    "**Note**: You may notice that the mean represents the percentage of shows in the dataframe that are on each streaming service. Take a moment to think about why that is."
   ]
  },
  {
   "cell_type": "code",
   "execution_count": null,
   "metadata": {
    "azdata_cell_guid": "8e4f3757-474f-4e20-b861-db973437b541"
   },
   "outputs": [],
   "source": [
    "with con:\n",
    "  data = con.execute(\"SELECT    SUM(CASE WHEN Netflix = 1 THEN 1 ELSE 0 END) AS Netflix_Count,    SUM(CASE WHEN Hulu = 1 THEN 1 ELSE 0 END) AS Hulu_Count,    SUM(CASE WHEN Prime_Video = 1 THEN 1 ELSE 0 END) AS Prime_Video_Count,    SUM(CASE WHEN Disney = 1 THEN 1 ELSE 0 END) AS Disney_Count FROM shows\")\n",
    "  for row in data:\n",
    "    print(row)\n",
    "    \n",
    "#  6   Netflix          5368 non-null   int64 \n",
    "#  7   Hulu             5368 non-null   int64 \n",
    "#  8   Prime_Video      5368 non-null   int64 \n",
    "#  9   Disney           5368 non-null   int64 \n",
    "#  10  Type             5368 non-null   int64 "
   ]
  },
  {
   "cell_type": "markdown",
   "metadata": {
    "azdata_cell_guid": "167cbd0d-ad9f-4f27-8066-e45dfdfaf421"
   },
   "source": [
    "Join your watchlist data with the shows data to determine which streaming services your watchlist shows are on and make a new table in your database using the joined data. Print out the data in your joined table to see what shows on your watchlist on in the original dataset. With the joined data, determine the percentage of your watchlist shows that are on each streaming service and how many of your watchlist shows are on each streaming service."
   ]
  },
  {
   "cell_type": "code",
   "execution_count": null,
   "metadata": {
    "azdata_cell_guid": "b871523e-a476-4f3a-a6ac-2e251f140e84"
   },
   "outputs": [],
   "source": [
    "# new table 'watchlist_with_services' joining 'watchlist' and 'shows' tables\n",
    "join_query = \"\"\"\n",
    "    CREATE TABLE IF NOT EXISTS watchlist_with_services AS\n",
    "    SELECT w.id, s.Title, s.Netflix, s.Hulu, s.Prime_Video, s.Disney\n",
    "    FROM watchlist w\n",
    "    JOIN shows s ON w.id = s.ID;\n",
    "\"\"\"\n",
    "\n",
    "cur.execute(join_query)\n",
    "\n",
    "con.commit()\n",
    "\n",
    "# print the data \n",
    "print(\"Data in the joined table (watchlist_with_services):\")\n",
    "select_query = \"SELECT * FROM shows;\"\n",
    "cur.execute(select_query)\n",
    "for row in cur.fetchall():\n",
    "    print(row)\n",
    "\n",
    "# Calculate the percentage of your watchlist shows on each streaming service\n",
    "services = ['Netflix', 'Hulu', 'Prime_Video', 'Disney']\n",
    "\n",
    "for service in services:\n",
    "    count_query = f\"SELECT COUNT(*) FROM watchlist_with_services WHERE {service} = 1;\"\n",
    "    total_query = \"SELECT COUNT(*) FROM watchlist_with_services;\"\n",
    "    \n",
    "    cur.execute(count_query)\n",
    "    count = cur.fetchone()[0]\n",
    "    \n",
    "    cur.execute(total_query)\n",
    "    total = cur.fetchone()[0]\n",
    "    \n",
    "    percentage = (count / total) * 100 if total > 0 else 0\n",
    "    print(f\"Percentage of watchlist shows on {service}: {percentage:.2f}% ({count} out of {total} shows)\")\n"
   ]
  },
  {
   "cell_type": "markdown",
   "metadata": {
    "azdata_cell_guid": "909689e4-1aae-41e3-b1f8-158ebe5ec3ca"
   },
   "source": [
    "## Results\n",
    "\n",
    "Now that you have done your analysis, make note of the answers to the following questions by editing the text cell:\n",
    "\n",
    "1. Was every show on your watchlist in the Kaggle dataset? Do you have any ideas as to why a show might not have been present?\n",
    "age of dataset\n",
    "2. Did you include a show or shows in your watchlist that is exclusive to one of the platforms? How might that have impacted your analysis?\n",
    "yes - \n",
    "2. Which streaming service(s) offered the most shows on your watchlist? Which streaming service(s) offered the least?\n",
    "3. Based on the shows you want to watch and the results of your analysis, is there a streaming service you think would be a good fit for you?"
   ]
  }
 ],
 "metadata": {
  "kernelspec": {
   "display_name": "Python 3 (ipykernel)",
   "language": "python",
   "name": "python3"
  },
  "language_info": {
   "codemirror_mode": {
    "name": "ipython",
    "version": 3
   },
   "file_extension": ".py",
   "mimetype": "text/x-python",
   "name": "python",
   "nbconvert_exporter": "python",
   "pygments_lexer": "ipython3",
   "version": "3.10.9"
  }
 },
 "nbformat": 4,
 "nbformat_minor": 2
}
